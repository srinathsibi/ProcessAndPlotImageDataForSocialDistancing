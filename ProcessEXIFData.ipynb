{
 "cells": [
  {
   "cell_type": "code",
   "execution_count": 1,
   "metadata": {},
   "outputs": [],
   "source": [
    "#Short Code to process the EXIF data from the images in the subfolder\n",
    "import PIL.Image as pil\n",
    "from PIL import Image\n",
    "from PIL.ExifTags import TAGS, GPSTAGS\n",
    "import glob"
   ]
  },
  {
   "cell_type": "code",
   "execution_count": 2,
   "metadata": {},
   "outputs": [],
   "source": [
    "# Test Print for one image\n",
    "#img = pil.open('04_18_2020_1224/ZzZrBgs8kXhRRQPiaZBneQ.jpg')\n",
    "#exif_data =img.getexif()\n",
    "#print (exif_data)"
   ]
  },
  {
   "cell_type": "code",
   "execution_count": 3,
   "metadata": {},
   "outputs": [],
   "source": [
    "class ImageMetaData(object):\n",
    "    # Extract exif data from images. Process GPS data and get latitude\n",
    "    # and longitudinal data\n",
    "    exif_data = None\n",
    "    image = None\n",
    "    \n",
    "    def __init__(self, img_path):\n",
    "        self.image = Image.open(img_path)\n",
    "        #print the exif data as a test\n",
    "        #print(self.image._getexif())\n",
    "        self.get_exif_data()\n",
    "        super(ImageMetaData, self).__init__()\n",
    "        \n",
    "    def get_exif_data(self):\n",
    "        # Returns the dictionary from the exif data of a PIL Image item.\n",
    "        exif_data ={}\n",
    "        info = self.image._getexif()\n",
    "        if info:\n",
    "            for tag,value in info.items():\n",
    "                decoded = TAGS.get(tag, tag)\n",
    "                if decoded == \"GPSInfo\":\n",
    "                    gps_data = {}\n",
    "                    for t in value:\n",
    "                        sub_decoded = GPSTAGS.get(t,t)\n",
    "                        gps_data[sub_decoded] = value[t]\n",
    "                        \n",
    "                    exif_data[decoded] = gps_data\n",
    "                else:\n",
    "                    exif_data[decoded] = value\n",
    "        self.exif_data = exif_data\n",
    "        return exif_data\n",
    "\n",
    "    def get_if_exist(self, data, key):\n",
    "        if key in data:\n",
    "            return data[key]\n",
    "        return None\n",
    "    \n",
    "    def convert_to_degrees(self, value):\n",
    "        # Convert GPS coordinates to float format\n",
    "        d0 = value[0][0]\n",
    "        d1 = value[0][1]\n",
    "        d = float(d0) / float(d1)\n",
    "        \n",
    "        m0 = value[1][0]\n",
    "        m1 = value[1][1]\n",
    "        m = float(m0) / float(m1)\n",
    "        \n",
    "        s0 = value[2][0]\n",
    "        s1 = value[2][1]\n",
    "        s = float(s0) / float(s1)\n",
    "        \n",
    "        return d + (m / 60.0) + (s/3600.0)\n",
    "    \n",
    "    def get_lat_lng(self):\n",
    "        # Return Lat and Long, if available, from the provided exif_data\n",
    "        lat = None\n",
    "        lng = None\n",
    "        exif_data = self.get_exif_data()\n",
    "        #print(exif_data)\n",
    "        if \"GPSInfo\" in exif_data:\n",
    "            gps_info = exif_data[\"GPSInfo\"]\n",
    "            gps_latitude = self.get_if_exist(gps_info, \"GPSLatitude\")\n",
    "            gps_latitude_ref = self.get_if_exist(gps_info, 'GPSLatitudeRef')\n",
    "            gps_longitude = self.get_if_exist(gps_info, 'GPSLongitude')\n",
    "            gps_longitude_ref = self.get_if_exist(gps_info, 'GPSLongitudeRef')\n",
    "            if gps_latitude and gps_latitude_ref and gps_longitude and gps_longitude_ref:\n",
    "                lat = self.convert_to_degrees(gps_latitude)\n",
    "                if gps_latitude_ref != \"N\":                     \n",
    "                    lat = 0 - lat\n",
    "                lng = self.convert_to_degrees(gps_longitude)\n",
    "                if gps_longitude_ref != \"E\":\n",
    "                    lng = 0 - lng\n",
    "        return lat, lng"
   ]
  },
  {
   "cell_type": "code",
   "execution_count": 6,
   "metadata": {},
   "outputs": [
    {
     "name": "stdout",
     "output_type": "stream",
     "text": [
      "\n",
      " GPS coordinates are:  (40.76194047915887, -73.96213763927939)\n"
     ]
    }
   ],
   "source": [
    "path_name = '04_18_2020_1224/ZzY8jCoykYBve89GwMwTCA.jpg'\n",
    "meta_data = ImageMetaData(path_name)\n",
    "latlng = meta_data.get_lat_lng()\n",
    "print(\"\\n\",\"GPS coordinates are: \",latlng)\n",
    "exif_data = meta_data.get_exif_data()\n",
    "#print(\"\\n\\n\\n\",exif_data)"
   ]
  }
 ],
 "metadata": {
  "kernelspec": {
   "display_name": "Python 3",
   "language": "python",
   "name": "python3"
  },
  "language_info": {
   "codemirror_mode": {
    "name": "ipython",
    "version": 3
   },
   "file_extension": ".py",
   "mimetype": "text/x-python",
   "name": "python",
   "nbconvert_exporter": "python",
   "pygments_lexer": "ipython3",
   "version": "3.7.6"
  }
 },
 "nbformat": 4,
 "nbformat_minor": 4
}
